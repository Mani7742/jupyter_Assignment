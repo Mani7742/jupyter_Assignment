{
 "cells": [
  {
   "cell_type": "markdown",
   "id": "e6322f8c-3aa9-4fae-8297-94fcb18faecb",
   "metadata": {},
   "source": [
    "# Data Science Tools and Ecosystem "
   ]
  },
  {
   "cell_type": "markdown",
   "id": "5db785d6-a368-43a6-a94f-121ecf1489bc",
   "metadata": {},
   "source": [
    "## In this notebook, Data Science Tools and Ecosystem are summarized."
   ]
  },
  {
   "cell_type": "markdown",
   "id": "b7a65985-8b44-4393-a43a-6f71266094e2",
   "metadata": {},
   "source": [
    "## Data Science Languages\n",
    "\n",
    "- Python  \n",
    "- R  \n",
    "- SQL  \n",
    "- Julia  \n",
    "- Scala  \n",
    "- Java  \n"
   ]
  },
  {
   "cell_type": "markdown",
   "id": "c5cdc82e-2a80-4961-8bda-4d455b445a54",
   "metadata": {},
   "source": [
    "## Data Science Libraries\n",
    "\n",
    "- NumPy  \n",
    "- Pandas  \n",
    "- Matplotlib  \n",
    "- Scikit-learn  \n",
    "- TensorFlow  \n",
    "- ggplot2  \n",
    "- caret  \n"
   ]
  },
  {
   "cell_type": "markdown",
   "id": "195621ae-eacb-467e-84e1-2e252d2597f1",
   "metadata": {},
   "source": [
    "## Data Science Tools\n",
    "\n",
    "| Tool           | Purpose                  |\n",
    "|----------------|--------------------------|\n",
    "| Jupyter Notebook | Interactive coding environment |\n",
    "| GitHub         | Version control and collaboration |\n",
    "| Tableau        | Data visualization       |\n",
    "| Apache Spark   | Big data processing      |\n",
    "| IBM Watson     | AI and machine learning  |\n"
   ]
  },
  {
   "cell_type": "markdown",
   "id": "9461c7fa-e4e8-4cfe-9e76-6b10abe8ea21",
   "metadata": {},
   "source": [
    "## Arithmetic Expression Examples\n",
    "\n",
    "Below are some examples demonstrating simple arithmetic operations using Python code.\n"
   ]
  },
  {
   "cell_type": "code",
   "execution_count": 5,
   "id": "a42040da-88fd-4588-b16f-621a95923f93",
   "metadata": {},
   "outputs": [
    {
     "name": "stdout",
     "output_type": "stream",
     "text": [
      "Result of 5 * 3 + 10 is: 25\n"
     ]
    }
   ],
   "source": [
    "# Multiply 5 by 3 and then add 10\n",
    "result = 5 * 3 + 10\n",
    "print(\"Result of 5 * 3 + 10 is:\", result)\n"
   ]
  },
  {
   "cell_type": "code",
   "execution_count": 6,
   "id": "c276b74f-0ddb-4642-8972-6f21c82f279b",
   "metadata": {},
   "outputs": [
    {
     "name": "stdout",
     "output_type": "stream",
     "text": [
      "135 minutes is equal to 2.25 hours\n"
     ]
    }
   ],
   "source": [
    "# Convert minutes to hours\n",
    "minutes = 135\n",
    "hours = minutes / 60\n",
    "print(minutes, \"minutes is equal to\", hours, \"hours\")\n"
   ]
  },
  {
   "cell_type": "markdown",
   "id": "313d07a6-9124-45f5-9393-b76dbed4d2ec",
   "metadata": {},
   "source": [
    "## Objectives\n",
    "\n",
    "- Understand key data science languages and libraries  \n",
    "- Explore popular data science tools  \n",
    "- Practice basic arithmetic operations in Python  \n",
    "- Learn time conversion from minutes to hours  \n",
    "- Share work publicly using GitHub  \n"
   ]
  },
  {
   "cell_type": "markdown",
   "id": "893e5d37-08f0-4096-b25a-681034cedf04",
   "metadata": {},
   "source": [
    "## Author\n",
    "\n",
    "Muhammad Abdul Rehman Shakeel\n"
   ]
  },
  {
   "cell_type": "code",
   "execution_count": null,
   "id": "edef8462-0bef-420d-bd3a-676c228cf46c",
   "metadata": {},
   "outputs": [],
   "source": []
  }
 ],
 "metadata": {
  "kernelspec": {
   "display_name": "Python 3 (ipykernel)",
   "language": "python",
   "name": "python3"
  },
  "language_info": {
   "codemirror_mode": {
    "name": "ipython",
    "version": 3
   },
   "file_extension": ".py",
   "mimetype": "text/x-python",
   "name": "python",
   "nbconvert_exporter": "python",
   "pygments_lexer": "ipython3",
   "version": "3.13.2"
  }
 },
 "nbformat": 4,
 "nbformat_minor": 5
}
